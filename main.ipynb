{
 "cells": [
  {
   "cell_type": "code",
   "execution_count": 86,
   "metadata": {},
   "outputs": [
    {
     "name": "stdout",
     "output_type": "stream",
     "text": [
      "The autoreload extension is already loaded. To reload it, use:\n",
      "  %reload_ext autoreload\n"
     ]
    }
   ],
   "source": [
    "from forch import nn\n",
    "import numpy as np\n",
    "import forch\n",
    "import forch.utils\n",
    "import forch.utils.data\n",
    "import forch.optim\n",
    "import matplotlib.pyplot as plt\n",
    "%load_ext autoreload\n",
    "%autoreload 2"
   ]
  },
  {
   "cell_type": "code",
   "execution_count": 87,
   "metadata": {},
   "outputs": [],
   "source": [
    "class Model(nn.Module):\n",
    "    def __init__(self):\n",
    "        super().__init__()\n",
    "        self.relu = nn.ReLU()\n",
    "        self.fc1 = nn.Linear(2, 10)\n",
    "        self.fc2 = nn.Linear(10, 10)\n",
    "        self.fc3 = nn.Linear(10, 1)\n",
    "        self.sigmoid = nn.Sigmoid()\n",
    "\n",
    "    def forward(self, x):\n",
    "        x = self.fc1(x)\n",
    "        x = self.relu(x)\n",
    "        x = self.fc2(x)\n",
    "        x = self.relu(x)\n",
    "        x = self.fc3(x)\n",
    "        x = self.sigmoid(x)\n",
    "        return x\n",
    "    \n",
    "    def backward(self, d_out):\n",
    "        d_out = self.sigmoid.backward(d_out)\n",
    "        d_out = self.fc3.backward(d_out)\n",
    "        d_out = self.relu.backward(d_out)\n",
    "        d_out = self.fc2.backward(d_out)\n",
    "        d_out = self.relu.backward(d_out)\n",
    "        d_out = self.fc1.backward(d_out)\n",
    "        return d_out"
   ]
  },
  {
   "cell_type": "code",
   "execution_count": 88,
   "metadata": {},
   "outputs": [],
   "source": [
    "features = np.random.rand(200_000, 2)  \n",
    "labels = (features[:, 0] + features[:, 1] < 1).astype(float).reshape(-1, 1)\n",
    "\n",
    "test_features = np.random.rand(20_000, 2)  \n",
    "test_labels = (test_features[:, 0] + test_features[:, 1] < 1).astype(float).reshape(-1, 1)"
   ]
  },
  {
   "cell_type": "code",
   "execution_count": 89,
   "metadata": {},
   "outputs": [],
   "source": [
    "dataset = forch.utils.data.Dataset(features, labels)\n",
    "test_dataset = forch.utils.data.Dataset(test_features, test_labels)"
   ]
  },
  {
   "cell_type": "code",
   "execution_count": 90,
   "metadata": {},
   "outputs": [],
   "source": [
    "dataloader = forch.utils.data.DataLoader(dataset, 5000)\n",
    "test_dataloader = forch.utils.data.DataLoader(test_dataset, 5000)"
   ]
  },
  {
   "cell_type": "code",
   "execution_count": 91,
   "metadata": {},
   "outputs": [],
   "source": [
    "from tqdm import tqdm"
   ]
  },
  {
   "cell_type": "code",
   "execution_count": 92,
   "metadata": {},
   "outputs": [
    {
     "name": "stderr",
     "output_type": "stream",
     "text": [
      "100%|██████████| 200/200 [01:13<00:00,  2.72it/s]\n"
     ]
    }
   ],
   "source": [
    "model = Model()\n",
    "criton = nn.MSELoss()\n",
    "optim = forch.optim.SGD([model.fc1.W, model.fc2.W, model.fc3.W], lr=1e-4)\n",
    "\n",
    "losses = []\n",
    "\n",
    "for epoch in tqdm(range(200)):\n",
    "    running_loss = 0\n",
    "    for features, labels in dataloader:\n",
    "        predicted = model(features)\n",
    "        optim.zero_grad()\n",
    "        loss = criton.forward(predicted, labels) # TODO: make forward unnecessary\n",
    "        running_loss += loss\n",
    "        d_loss = criton.backward()\n",
    "        model.backward(d_loss)\n",
    "        optim.step()\n",
    "    losses.append(running_loss / len(dataloader))"
   ]
  },
  {
   "cell_type": "code",
   "execution_count": 93,
   "metadata": {},
   "outputs": [
    {
     "data": {
      "text/plain": [
       "[<matplotlib.lines.Line2D at 0x1229fc730>]"
      ]
     },
     "execution_count": 93,
     "metadata": {},
     "output_type": "execute_result"
    },
    {
     "data": {
      "image/png": "[encoded data removed]",
      "text/plain": [
       "<Figure size 640x480 with 1 Axes>"
      ]
     },
     "metadata": {},
     "output_type": "display_data"
    }
   ],
   "source": [
    "plt.plot(losses)"
   ]
  },
  {
   "cell_type": "code",
   "execution_count": 99,
   "metadata": {},
   "outputs": [
    {
     "name": "stdout",
     "output_type": "stream",
     "text": [
      "Accuracy: 90.81%\n"
     ]
    }
   ],
   "source": [
    "total = 0\n",
    "correct = 0\n",
    "for features, labels in test_dataloader:\n",
    "    predicted = model(features)\n",
    "    predicted = (predicted > 0.5).astype(int)\n",
    "    total += len(predicted)\n",
    "    correct += (predicted == labels).sum()\n",
    "acc = correct / total\n",
    "print(f\"Accuracy: {acc*100:.2f}%\")"
   ]
  }
 ],
 "metadata": {
  "kernelspec": {
   "display_name": "Python 3",
   "language": "python",
   "name": "python3"
  },
  "language_info": {
   "codemirror_mode": {
    "name": "ipython",
    "version": 3
   },
   "file_extension": ".py",
   "mimetype": "text/x-python",
   "name": "python",
   "nbconvert_exporter": "python",
   "pygments_lexer": "ipython3",
   "version": "3.10.15"
  }
 },
 "nbformat": 4,
 "nbformat_minor": 2
}
